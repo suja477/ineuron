{
 "cells": [
  {
   "cell_type": "raw",
   "id": "021634d5",
   "metadata": {},
   "source": [
    "1. In the below elements which of them are values or an expression? eg:- values can be\n",
    "integer or string and expressions will be mathematical operators.\n"
   ]
  },
  {
   "cell_type": "raw",
   "id": "98c013f5",
   "metadata": {},
   "source": [
    "*  is a value\n",
    "&#39;hello&#39;  are values\n",
    "-87.8 is a value\n",
    "- is a value\n",
    "/ is an expression\n",
    "+ is an expression\n",
    "6 is a value"
   ]
  },
  {
   "cell_type": "raw",
   "id": "f357bf29",
   "metadata": {},
   "source": [
    "2. What is the difference between string and variable?"
   ]
  },
  {
   "cell_type": "raw",
   "id": "197e9c51",
   "metadata": {},
   "source": [
    "variable is an identifier to store the value ,value can be a number ,string etc ,it uses a memory location to store the data.\n",
    "\n",
    "String is a type of variable ,it takes any value given in double quotes or single quotes "
   ]
  },
  {
   "cell_type": "code",
   "execution_count": null,
   "id": "e3b1ba87",
   "metadata": {},
   "outputs": [],
   "source": [
    "3. Describe three different data types."
   ]
  },
  {
   "cell_type": "raw",
   "id": "be5b7c87",
   "metadata": {},
   "source": [
    "---integer data type -stores integer values\n",
    "---float data type- store decimal \n",
    "---string data type -store string values"
   ]
  },
  {
   "cell_type": "raw",
   "id": "b7181038",
   "metadata": {},
   "source": [
    "4. What is an expression made up of? What do all expressions do?"
   ]
  },
  {
   "cell_type": "raw",
   "id": "e3ce5934",
   "metadata": {},
   "source": [
    "An expression is made up of operators and operands and it is interpreted to produce a value\n",
    "eg \n",
    "constant expressions contains constants 3+5 \n",
    "arithematical expressions contains arithematical operators x+y \n",
    "relational expressions contains relational operators x<y \n",
    "\n"
   ]
  },
  {
   "cell_type": "raw",
   "id": "ed0f3687",
   "metadata": {},
   "source": [
    "5. This assignment statements, like spam = 10. What is the difference between an\n",
    "expression and a statement?"
   ]
  },
  {
   "cell_type": "raw",
   "id": "db0c0e6c",
   "metadata": {},
   "source": [
    "Expressions always return a value\n",
    "expression can print result value\n",
    "eg 5+3\n",
    "\"hello\"+\"world\"\n",
    "\n",
    "A statement assigns value to a variable\n",
    "A statement never returns a value\n",
    "Statement will not print value\n",
    "eg - assignment statements,conditional branching ,loop etc"
   ]
  },
  {
   "cell_type": "raw",
   "id": "2b0c9670",
   "metadata": {},
   "source": [
    "6. After running the following code, what does the variable bacon contain?\n",
    "bacon = 22\n",
    "bacon + 1"
   ]
  },
  {
   "cell_type": "raw",
   "id": "47a8f48b",
   "metadata": {},
   "source": [
    "bacon contains 22"
   ]
  },
  {
   "cell_type": "raw",
   "id": "a2563fbb",
   "metadata": {},
   "source": [
    "7. What should the values of the following two terms be?\n",
    "'spam'+'spamspam'  gives 'spamspamspam'\n",
    "\n",
    "'spam'*3 gives 'spamspamspam'"
   ]
  },
  {
   "cell_type": "raw",
   "id": "3de87d78",
   "metadata": {},
   "source": [
    "8. Why is eggs a valid variable name while 100 is invalid?"
   ]
  },
  {
   "cell_type": "raw",
   "id": "5f8df5a2",
   "metadata": {},
   "source": [
    "A variable name must start with a letter or underscore character\n",
    "A variable name cannot start with number\n",
    "A variable name only contain alpha-numeric characters and underscores \n",
    "A varible name is case sensitive \n",
    "\n",
    "so egg is a varible name and 100 is not a variable name"
   ]
  },
  {
   "cell_type": "raw",
   "id": "b4771b09",
   "metadata": {},
   "source": [
    "9. What three functions can be used to get the integer, floating-point number, or string\n",
    "version of a value?"
   ]
  },
  {
   "cell_type": "raw",
   "id": "761898c4",
   "metadata": {},
   "source": [
    "int function can be used to get the integer \n",
    "float function can be used to get float \n",
    "str function can be used to get string "
   ]
  },
  {
   "cell_type": "raw",
   "id": "e4ee1564",
   "metadata": {},
   "source": [
    "10. Why does this expression cause an error? How can you fix it?\n",
    "\"I have eaten\" + 99 +\"burritos\""
   ]
  },
  {
   "cell_type": "code",
   "execution_count": 5,
   "id": "06495e24",
   "metadata": {},
   "outputs": [
    {
     "data": {
      "text/plain": [
       "'I have eaten 99 burritos'"
      ]
     },
     "execution_count": 5,
     "metadata": {},
     "output_type": "execute_result"
    }
   ],
   "source": [
    "\"I have eaten \" + '99' +\" burritos\""
   ]
  },
  {
   "cell_type": "code",
   "execution_count": null,
   "id": "41487c89",
   "metadata": {},
   "outputs": [],
   "source": []
  }
 ],
 "metadata": {
  "kernelspec": {
   "display_name": "Python 3 (ipykernel)",
   "language": "python",
   "name": "python3"
  },
  "language_info": {
   "codemirror_mode": {
    "name": "ipython",
    "version": 3
   },
   "file_extension": ".py",
   "mimetype": "text/x-python",
   "name": "python",
   "nbconvert_exporter": "python",
   "pygments_lexer": "ipython3",
   "version": "3.9.12"
  }
 },
 "nbformat": 4,
 "nbformat_minor": 5
}
