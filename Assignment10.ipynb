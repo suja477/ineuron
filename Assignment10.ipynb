{
 "cells": [
  {
   "cell_type": "code",
   "execution_count": null,
   "id": "4e20ffa3",
   "metadata": {},
   "outputs": [],
   "source": [
    "1. How do you distinguish between shutil.copy() and shutil.copytree()?\n"
   ]
  },
  {
   "cell_type": "code",
   "execution_count": null,
   "id": "1d5581d6",
   "metadata": {},
   "outputs": [],
   "source": [
    "The shutil.copy() function will copy a single file, \n",
    "while shutil.copytree() will copy an entire folder, along with all its contents."
   ]
  },
  {
   "cell_type": "code",
   "execution_count": null,
   "id": "73189b09",
   "metadata": {},
   "outputs": [],
   "source": [
    "2. What function is used to rename files??\n"
   ]
  },
  {
   "cell_type": "code",
   "execution_count": null,
   "id": "9bbde541",
   "metadata": {},
   "outputs": [],
   "source": [
    "The shutil.move() function is used for renaming files, as well as moving them."
   ]
  },
  {
   "cell_type": "code",
   "execution_count": null,
   "id": "c0603ed9",
   "metadata": {},
   "outputs": [],
   "source": [
    "3. What is the difference between the delete functions in the send2trash and shutil modules?\n"
   ]
  },
  {
   "cell_type": "code",
   "execution_count": null,
   "id": "4a5c36f9",
   "metadata": {},
   "outputs": [],
   "source": [
    "The send2trash functions will move a file or folder to the recycle bin, while shutil functions will permanently delete files and folders."
   ]
  },
  {
   "cell_type": "code",
   "execution_count": null,
   "id": "f39ed2a1",
   "metadata": {},
   "outputs": [],
   "source": [
    "4.ZipFile objects have a close() method just like File objects’ close() method. What ZipFile method is equivalent to File objects’ open() method?\n"
   ]
  },
  {
   "cell_type": "code",
   "execution_count": null,
   "id": "2cd582c7",
   "metadata": {},
   "outputs": [],
   "source": [
    "The zipfile.ZipFile() function is equivalent to the open() function; the first argument is the filename,\n",
    "and the second argument is the mode to open the ZIP file in (read, write, or append)."
   ]
  },
  {
   "cell_type": "code",
   "execution_count": null,
   "id": "49977a81",
   "metadata": {},
   "outputs": [],
   "source": [
    "5. Create a programme that searches a folder tree for files \n",
    "with a certain file extension (such as .pdf or .jpg). Copy these files from whatever location they are in to a new folder.\n",
    "\n"
   ]
  },
  {
   "cell_type": "code",
   "execution_count": 10,
   "id": "75a46898",
   "metadata": {},
   "outputs": [
    {
     "name": "stdout",
     "output_type": "stream",
     "text": [
      "Looking in C:\\Users\\Suja4\\OneDrive\\Documents\\Data Science\\DataScience\\Untitled Folder\\test1 for files with extensions of .ipynb\n",
      "copying C:\\Users\\Suja4\\OneDrive\\Documents\\Data Science\\DataScience\\Untitled Folder\\test1\\Assignment7_ineuron.ipynb to C:\\Users\\Suja4\\OneDrive\\Documents\\Data Science\\DataScience\\Untitled Folder\\test2\n"
     ]
    }
   ],
   "source": [
    "import os\n",
    "import shutil\n",
    "def copyFiles(folder,extensions,dest):\n",
    "    folder=os.path.abspath(folder)\n",
    "    dest=os.path.abspath(dest)\n",
    "    print('Looking in', folder, 'for files with extensions of', ', '.join(extensions))\n",
    "\n",
    "    for root, dirs, files in os.walk(folder):\n",
    "        for filename in files:\n",
    "            name,extension= os.path.splitext(filename)\n",
    "            if extension in extensions:\n",
    "                fileAbsPath=root+os.path.sep+filename\n",
    "                print('copying',fileAbsPath,'to',dest)\n",
    "                shutil.copy(fileAbsPath,destFolder)\n",
    "extensions=['.ipynb']\n",
    "folder='test1'\n",
    "dest='test2'\n",
    "copyFiles(folder,extensions,dest)"
   ]
  },
  {
   "cell_type": "code",
   "execution_count": null,
   "id": "56b328c2",
   "metadata": {},
   "outputs": [],
   "source": []
  },
  {
   "cell_type": "code",
   "execution_count": null,
   "id": "453eff94",
   "metadata": {},
   "outputs": [],
   "source": []
  },
  {
   "cell_type": "code",
   "execution_count": null,
   "id": "6ebd8dab",
   "metadata": {},
   "outputs": [],
   "source": []
  },
  {
   "cell_type": "code",
   "execution_count": null,
   "id": "ea01b4e9",
   "metadata": {},
   "outputs": [],
   "source": []
  },
  {
   "cell_type": "code",
   "execution_count": null,
   "id": "710504c5",
   "metadata": {},
   "outputs": [],
   "source": []
  }
 ],
 "metadata": {
  "kernelspec": {
   "display_name": "Python 3 (ipykernel)",
   "language": "python",
   "name": "python3"
  },
  "language_info": {
   "codemirror_mode": {
    "name": "ipython",
    "version": 3
   },
   "file_extension": ".py",
   "mimetype": "text/x-python",
   "name": "python",
   "nbconvert_exporter": "python",
   "pygments_lexer": "ipython3",
   "version": "3.9.15"
  }
 },
 "nbformat": 4,
 "nbformat_minor": 5
}
