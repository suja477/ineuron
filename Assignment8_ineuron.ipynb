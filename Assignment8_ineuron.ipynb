{
 "cells": [
  {
   "cell_type": "raw",
   "id": "37afb8b9",
   "metadata": {},
   "source": [
    "1. Is the Python Standard Library included with PyInputPlus?\n"
   ]
  },
  {
   "cell_type": "raw",
   "id": "9a06037d",
   "metadata": {},
   "source": [
    " PyInputPlus is not a part of the Python Standard Library, we must install it separately using Pip."
   ]
  },
  {
   "cell_type": "raw",
   "id": "dea3f24e",
   "metadata": {},
   "source": [
    "2. Why is PyInputPlus commonly imported with import pyinputplus as pypi?\n"
   ]
  },
  {
   "cell_type": "raw",
   "id": "f44c4a92",
   "metadata": {},
   "source": [
    "You can import the module with import pyinputplus as pyip so that you can enter a shorter name when calling the module’s functions"
   ]
  },
  {
   "cell_type": "raw",
   "id": "7010fd33",
   "metadata": {},
   "source": [
    "3. How do you distinguish between inputInt() and inputFloat()?\n"
   ]
  },
  {
   "cell_type": "raw",
   "id": "6b477849",
   "metadata": {},
   "source": [
    "first one take integer as input,second one takes float as input"
   ]
  },
  {
   "cell_type": "raw",
   "id": "99490563",
   "metadata": {},
   "source": [
    "4. Using PyInputPlus, how do you ensure that the user enters a whole number between 0 and 99?\n"
   ]
  },
  {
   "cell_type": "raw",
   "id": "199e5f57",
   "metadata": {},
   "source": [
    "pyip.inputint(min=0, max=99)"
   ]
  },
  {
   "cell_type": "raw",
   "id": "a5dbd56a",
   "metadata": {},
   "source": [
    "5. What is transferred to the keyword arguments allowRegexes and blockRegexes?\n"
   ]
  },
  {
   "cell_type": "raw",
   "id": "ec996af4",
   "metadata": {},
   "source": [
    "A list of regex strings that are either explicitly allowed or denied"
   ]
  },
  {
   "cell_type": "raw",
   "id": "6b7ac115",
   "metadata": {},
   "source": [
    "6. If a blank input is entered three times, what does inputStr(limit=3) do?\n"
   ]
  },
  {
   "cell_type": "raw",
   "id": "01e48944",
   "metadata": {},
   "source": [
    " The function will raise RetryLimitException."
   ]
  },
  {
   "cell_type": "raw",
   "id": "d695dab5",
   "metadata": {},
   "source": [
    "7. If blank input is entered three times, what does inputStr(limit=3, default='hello') do?\n"
   ]
  },
  {
   "cell_type": "markdown",
   "id": "719f0c05",
   "metadata": {},
   "source": [
    " The function returns the value 'hello'"
   ]
  },
  {
   "cell_type": "code",
   "execution_count": null,
   "id": "fd25a393",
   "metadata": {},
   "outputs": [],
   "source": []
  }
 ],
 "metadata": {
  "kernelspec": {
   "display_name": "Python 3 (ipykernel)",
   "language": "python",
   "name": "python3"
  },
  "language_info": {
   "codemirror_mode": {
    "name": "ipython",
    "version": 3
   },
   "file_extension": ".py",
   "mimetype": "text/x-python",
   "name": "python",
   "nbconvert_exporter": "python",
   "pygments_lexer": "ipython3",
   "version": "3.9.15"
  }
 },
 "nbformat": 4,
 "nbformat_minor": 5
}
